{
  "cells": [
    {
      "cell_type": "markdown",
      "metadata": {
        "id": "ncHBV4djkmi5"
      },
      "source": [
        "Task Description#1\n",
        "●\tZero-shot: Prompt AI to write a function that checks whether a given year is a leap year.\n",
        "Expected Output#1\n",
        "●\tAI-generated function with no examples provided\n",
        "\n"
      ]
    },
    {
      "cell_type": "code",
      "execution_count": null,
      "metadata": {
        "id": "xZ_Ki_ACkfZn"
      },
      "outputs": [],
      "source": []
    },
    {
      "cell_type": "code",
      "execution_count": null,
      "metadata": {
        "id": "70b46414"
      },
      "outputs": [],
      "source": [
        "def is_leap(year):\n",
        "  \"\"\"\n",
        "  Checks if a given year is a leap year.\n",
        "\n",
        "  Args:\n",
        "    year: An integer representing the year.\n",
        "\n",
        "  Returns:\n",
        "    True if the year is a leap year, False otherwise.\n",
        "  \"\"\"\n",
        "  return (year % 4 == 0 and year % 100 != 0) or (year % 400 == 0)\n",
        "\n",
        "# Example usage:\n",
        "# print(is_leap(2000))\n",
        "# print(is_leap(1900))\n",
        "# print(is_leap(2024))"
      ]
    },
    {
      "cell_type": "markdown",
      "metadata": {
        "id": "J13zFpKfrn2M"
      },
      "source": [
        "Task Description#2\n",
        "●\tOne-shot: Give one input-output example to guide AI in writing a function that converts centimeters to inches.\n",
        "Expected Output#2\n",
        "●\tFunction with correct conversion logic\n",
        "\n"
      ]
    },
    {
      "cell_type": "code",
      "execution_count": null,
      "metadata": {
        "id": "cb88813e"
      },
      "outputs": [],
      "source": [
        "def centimeters_to_inches(cm):\n",
        "  \"\"\"\n",
        "  Converts centimeters to inches.\n",
        "\n",
        "  Args:\n",
        "    cm: A float representing the length in centimeters.\n",
        "\n",
        "  Returns:\n",
        "    A float representing the length in inches.\n",
        "  \"\"\"\n",
        "  return cm * 0.393701\n",
        "\n",
        "# Example usage:\n",
        "input_cm = 10\n",
        "output_inches = centimeters_to_inches(input_cm)\n",
        "print(f\"Input: centimeters_to_inches({input_cm})\")\n",
        "print(f\"Output: {output_inches:.3f}\")"
      ]
    },
    {
      "cell_type": "markdown",
      "metadata": {
        "id": "Umyip-Yh4iwh"
      },
      "source": [
        "Task Description#3\n",
        "●\tFew-shot: Provide 2–3 examples to generate a function that formats full names as “Last, First”.\n",
        "Expected Output#3\n",
        "●\tWell-structured function respecting the examples\n"
      ]
    },
    {
      "cell_type": "code",
      "execution_count": null,
      "metadata": {
        "id": "79ecea5c"
      },
      "outputs": [],
      "source": [
        "def format_name(first_name, last_name):\n",
        "  \"\"\"\n",
        "  Formats a name as \"Last, First\".\n",
        "\n",
        "  Args:\n",
        "    first_name: The first name.\n",
        "    last_name: The last name.\n",
        "\n",
        "  Returns:\n",
        "    The formatted name string.\n",
        "  \"\"\"\n",
        "  return f\"{last_name.capitalize()}, {first_name.capitalize()}\"\n",
        "\n",
        "# Examples based on the prompt:\n",
        "print(f'format_name(\"Nandhini\", \"Rakesh\")\\t# Expected output: \"Rakesh, Nandhini\"')\n",
        "print(f'Actual output:\\t\\t\\t {format_name(\"Nandhini\", \"Rakesh\")}')\n",
        "\n",
        "print(f'format_name(\"Siri\", \"krupa\")\\t\\t# Expected output: \"Krupa, Siri\"')\n",
        "print(f'Actual output:\\t\\t\\t {format_name(\"Siri\", \"krupa\")}')\n",
        "\n",
        "print(f'format_name(\"Suma\", \"Swadha\")\\t\\t# Expected output: \"Swadha, Suma\"')\n",
        "print(f'Actual output:\\t\\t\\t {format_name(\"Suma\", \"Swadha\")}')"
      ]
    },
    {
      "cell_type": "code",
      "execution_count": 1,
      "metadata": {
        "colab": {
          "base_uri": "https://localhost:8080/"
        },
        "id": "762e8a91",
        "outputId": "290d9685-6333-4b17-b9d0-fcf9e4bd1d8b"
      },
      "outputs": [
        {
          "name": "stdout",
          "output_type": "stream",
          "text": [
            "Input: 'NICY', Output: 1\n",
            "Input: 'Union', Output: 3\n",
            "Input: 'Sathwik', Output: 2\n"
          ]
        }
      ],
      "source": [
        "def count_vowels(input_string):\n",
        "  \"\"\"\n",
        "  Counts the number of vowels in a string.\n",
        "\n",
        "  Args:\n",
        "    input_string: The string to count vowels in.\n",
        "\n",
        "  Returns:\n",
        "    The number of vowels in the string.\n",
        "  \"\"\"\n",
        "  vowels = \"aeiouAEIOU\"\n",
        "  vowel_count = 0\n",
        "  for char in input_string:\n",
        "    if char in vowels:\n",
        "      vowel_count += 1\n",
        "  return vowel_count\n",
        "\n",
        "# Example usage:\n",
        "print(f\"Input: 'NICY', Output: {count_vowels('NICY')}\")\n",
        "print(f\"Input: 'Union', Output: {count_vowels('Union')}\")\n",
        "print(f\"Input: 'Sathwik', Output: {count_vowels('Sathwik')}\")"
      ]
    },
    {
      "cell_type": "code",
      "execution_count": 2,
      "metadata": {
        "colab": {
          "base_uri": "https://localhost:8080/"
        },
        "id": "e4b39b01",
        "outputId": "e8e8d5d0-bed4-4176-a971-5741908d7d59"
      },
      "outputs": [
        {
          "name": "stdout",
          "output_type": "stream",
          "text": [
            "Input: 'sample1.txt', Output: 3\n",
            "Input: 'notes.txt', Output: 7\n",
            "Input: 'empty.txt', Output: 0\n",
            "Error: File 'nonexistent_file.txt' not found.\n",
            "Input: 'nonexistent_file.txt', Output: -1\n"
          ]
        }
      ],
      "source": [
        "def count_lines_in_file(filename):\n",
        "  \"\"\"\n",
        "  Reads a .txt file and returns the number of lines.\n",
        "\n",
        "  Args:\n",
        "    filename: The path to the text file.\n",
        "\n",
        "  Returns:\n",
        "    The number of lines in the file.\n",
        "  \"\"\"\n",
        "  try:\n",
        "    with open(filename, 'r') as f:\n",
        "      return sum(1 for line in f)\n",
        "  except FileNotFoundError:\n",
        "    print(f\"Error: File '{filename}' not found.\")\n",
        "    return -1 # Or raise an exception, depending on desired behavior\n",
        "\n",
        "# Create dummy files for the examples\n",
        "with open(\"sample1.txt\", \"w\") as f:\n",
        "  f.write(\"Line 1\\nLine 2\\nLine 3\")\n",
        "\n",
        "with open(\"notes.txt\", \"w\") as f:\n",
        "  f.write(\"Line 1\\nLine 2\\nLine 3\\nLine 4\\nLine 5\\nLine 6\\nLine 7\")\n",
        "\n",
        "with open(\"empty.txt\", \"w\") as f:\n",
        "  pass # Creates an empty file\n",
        "\n",
        "# Example usage:\n",
        "print(f\"Input: 'sample1.txt', Output: {count_lines_in_file('sample1.txt')}\")\n",
        "print(f\"Input: 'notes.txt', Output: {count_lines_in_file('notes.txt')}\")\n",
        "print(f\"Input: 'empty.txt', Output: {count_lines_in_file('empty.txt')}\")\n",
        "print(f\"Input: 'nonexistent_file.txt', Output: {count_lines_in_file('nonexistent_file.txt')}\") # Example for a non-existent file"
      ]
    }
  ],
  "metadata": {
    "colab": {
      "provenance": []
    },
    "kernelspec": {
      "display_name": "Python 3",
      "name": "python3"
    },
    "language_info": {
      "name": "python"
    }
  },
  "nbformat": 4,
  "nbformat_minor": 0
}
